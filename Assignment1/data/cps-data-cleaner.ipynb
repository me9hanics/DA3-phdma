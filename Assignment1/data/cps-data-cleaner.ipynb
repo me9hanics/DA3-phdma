{
 "cells": [
  {
   "cell_type": "code",
   "execution_count": null,
   "metadata": {},
   "outputs": [],
   "source": [
    "####################################################################\n",
    "# Prepared for Gabor's Data Analysis\n",
    "#\n",
    "# Data Analysis for Business, Economics, and Policy\n",
    "# by Gabor Bekes and  Gabor Kezdi\n",
    "# Cambridge University Press 2021\n",
    "#\n",
    "# gabors-data-analysis.com\n",
    "#\n",
    "# License: Free to share, modify and use for educational purposes.\n",
    "# \tNot to be used for commercial purposes.\n",
    "#\n",
    "####################################################################\n",
    "\n",
    "####################################################################\n",
    "# cps-earnings dataset\n",
    "#\n",
    "# input:\n",
    "#       morg2014.csv\n",
    "\n",
    "# output:\n",
    "#       morg-2014-emp.csv\n",
    "\n",
    "# version 1.0   2021-05-23\n",
    "####################################################################"
   ]
  },
  {
   "cell_type": "code",
   "execution_count": null,
   "metadata": {},
   "outputs": [],
   "source": [
    "### SETTING UP DIRECTORIES\n",
    "\n",
    "# import packages\n",
    "import pandas as pd\n",
    "import os\n",
    "import numpy as np\n",
    "\n",
    "# set working directory for da_data_repo -- replace the\n",
    "os.chdir('C:/workspace/stata/')\n",
    "\n",
    "# location folders\n",
    "data_in = \"./cps-earnings/raw/\"\n",
    "data_out = \"./cps-earnings/clean/\""
   ]
  },
  {
   "cell_type": "code",
   "execution_count": null,
   "metadata": {},
   "outputs": [],
   "source": [
    "# load dataset (as unicode, to avoid size and memor warnings)\n",
    "\n",
    "df = pd.read_csv(\n",
    "    data_in + \"morg2014.csv\",\n",
    "    quotechar='\"',\n",
    "    delimiter=\",\",\n",
    "    encoding=\"utf-8\",\n",
    "    dtype = \"unicode\"\n",
    ")"
   ]
  },
  {
   "cell_type": "code",
   "execution_count": null,
   "metadata": {},
   "outputs": [],
   "source": [
    "# select a subset of columns\n",
    "df= df[\n",
    "    [\n",
    "        \"lfsr94\",\n",
    "        \"hhid\",\n",
    "        \"lineno\",\n",
    "        \"intmonth\",\n",
    "        \"stfips\",\n",
    "        \"weight\",\n",
    "        \"earnwke\",\n",
    "        \"uhourse\",\n",
    "        \"grade92\",\n",
    "        \"race\",\n",
    "        \"ethnic\",\n",
    "        \"age\",\n",
    "        \"sex\",\n",
    "        \"marital\",\n",
    "        \"ownchild\",\n",
    "        \"chldpres\",\n",
    "        \"prcitshp\",\n",
    "        \"state\",\n",
    "        \"ind02\",\n",
    "        \"occ2012\",\n",
    "        \"class94\",\n",
    "        \"unionmme\",\n",
    "        \"unioncov\",\n",
    "    ]\n",
    "]"
   ]
  },
  {
   "cell_type": "code",
   "execution_count": null,
   "metadata": {},
   "outputs": [],
   "source": [
    "# rename variables\n",
    "\n",
    "df.reset_index(drop=True,inplace=True)\n",
    "df.rename(\n",
    "    columns={\n",
    "        \"class94\": \"class\",\n",
    "        \"uhourse\": \"uhours\",\n",
    "    },\n",
    "    inplace=True,\n",
    ")"
   ]
  },
  {
   "cell_type": "code",
   "execution_count": null,
   "metadata": {},
   "outputs": [],
   "source": [
    "# destring filter variables\n",
    "\n",
    "df[\"age\"] = pd.to_numeric(df[\"age\"], errors=\"coerce\").astype(\"Int64\")\n",
    "\n",
    "df[\"earnwke\"] = pd.to_numeric(df[\"earnwke\"], errors=\"coerce\")\n",
    "df[\"earnwke\"] = df.earnwke.fillna(0)\n",
    "\n",
    "df[\"uhours\"] = pd.to_numeric(df[\"uhours\"], errors=\"coerce\").astype(\"Int64\")\n",
    "df[\"uhours\"] = df.uhours.fillna(0)"
   ]
  },
  {
   "cell_type": "code",
   "execution_count": null,
   "metadata": {},
   "outputs": [],
   "source": [
    "# filtering dataset\n",
    "\n",
    "df = df[(df.age >= 16) & (df.age <= 64)]\n",
    "\n",
    "df = df[(df.lfsr94 == \"Employed-At Work\") | (df.lfsr94 == \"Employed-Absent\")]\n",
    "\n",
    "df.drop(df.loc[(df.earnwke == 0) | (df.uhours == 0)].index, inplace=True)\n",
    "\n",
    "df.reset_index(drop=True, inplace=True)"
   ]
  },
  {
   "cell_type": "code",
   "execution_count": null,
   "metadata": {},
   "outputs": [],
   "source": [
    "# save table\n",
    "\n",
    "df.to_csv(data_out + \"morg-2014-emp.csv\", index=False)"
   ]
  }
 ],
 "metadata": {
  "kernelspec": {
   "display_name": "Python 3",
   "language": "python",
   "name": "python3"
  },
  "language_info": {
   "codemirror_mode": {
    "name": "ipython",
    "version": 3
   },
   "file_extension": ".py",
   "mimetype": "text/x-python",
   "name": "python",
   "nbconvert_exporter": "python",
   "pygments_lexer": "ipython3",
   "version": "3.8.5"
  }
 },
 "nbformat": 4,
 "nbformat_minor": 4
}
